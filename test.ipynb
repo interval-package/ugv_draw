{
 "cells": [
  {
   "cell_type": "code",
   "execution_count": 1,
   "metadata": {},
   "outputs": [
    {
     "name": "stdout",
     "output_type": "stream",
     "text": [
      "Video acceleration complete.\n"
     ]
    }
   ],
   "source": [
    "from utils.vedio_reader import extract_frame, accelerate_video\n",
    "import cv2\n",
    "import os\n",
    "\n",
    "accelerate_video(\"data/ugv.mp4\", \"figure/acc.mp4\", 5/4)"
   ]
  },
  {
   "cell_type": "code",
   "execution_count": 7,
   "metadata": {},
   "outputs": [
    {
     "name": "stdout",
     "output_type": "stream",
     "text": [
      "1764\n",
      "fps:30.00017006899132, Frame 100.0 saved as figure/frames/frame_0.png\n",
      "fps:30.00017006899132, Frame 161.34969325153375 saved as figure/frames/frame_50.png\n",
      "fps:30.00017006899132, Frame 222.6993865030675 saved as figure/frames/frame_100.png\n",
      "fps:30.00017006899132, Frame 308.5889570552147 saved as figure/frames/frame_170.png\n",
      "fps:30.00017006899132, Frame 431.2883435582822 saved as figure/frames/frame_270.png\n",
      "fps:30.00017006899132, Frame 566.2576687116564 saved as figure/frames/frame_380.png\n",
      "fps:30.00017006899132, Frame 860.7361963190184 saved as figure/frames/frame_620.png\n",
      "fps:30.00017006899132, Frame 958.8957055214725 saved as figure/frames/frame_700.png\n",
      "fps:30.00017006899132, Frame 1081.59509202454 saved as figure/frames/frame_800.png\n"
     ]
    }
   ],
   "source": [
    "t_list = [0, 50, 100, 170, 270, 380, 620, 700, 800]\n",
    "\n",
    "video_path = \"data/ugv.mp4\"\n",
    "\n",
    "output_path = \"figure/frames\"\n",
    "\n",
    "video_capture = cv2.VideoCapture(video_path)\n",
    "    \n",
    "# Get the total number of frames\n",
    "total_frames = int(video_capture.get(cv2.CAP_PROP_FRAME_COUNT))\n",
    "print(total_frames)\n",
    "\n",
    "for t in t_list:\n",
    "    extract_frame(video_path, t/815*1000+100, os.path.join(output_path, f\"frame_{t}.png\"))"
   ]
  }
 ],
 "metadata": {
  "kernelspec": {
   "display_name": "gops",
   "language": "python",
   "name": "python3"
  },
  "language_info": {
   "codemirror_mode": {
    "name": "ipython",
    "version": 3
   },
   "file_extension": ".py",
   "mimetype": "text/x-python",
   "name": "python",
   "nbconvert_exporter": "python",
   "pygments_lexer": "ipython3",
   "version": "3.8.11"
  }
 },
 "nbformat": 4,
 "nbformat_minor": 2
}
