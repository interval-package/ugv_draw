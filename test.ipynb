{
 "cells": [
  {
   "cell_type": "code",
   "execution_count": 1,
   "metadata": {},
   "outputs": [
    {
     "name": "stdout",
     "output_type": "stream",
     "text": [
      "fps:30.00017006899132, Frame 100 saved as figure/frames/frame_50.png\n",
      "fps:30.00017006899132, Frame 150 saved as figure/frames/frame_100.png\n",
      "fps:30.00017006899132, Frame 220 saved as figure/frames/frame_170.png\n",
      "fps:30.00017006899132, Frame 320 saved as figure/frames/frame_270.png\n",
      "fps:30.00017006899132, Frame 430 saved as figure/frames/frame_380.png\n",
      "fps:30.00017006899132, Frame 670 saved as figure/frames/frame_620.png\n",
      "fps:30.00017006899132, Frame 750 saved as figure/frames/frame_700.png\n",
      "fps:30.00017006899132, Frame 850 saved as figure/frames/frame_800.png\n"
     ]
    }
   ],
   "source": [
    "from utils.vedio_reader import extract_frame\n",
    "import os\n",
    "\n",
    "t_list = [50, 100, 170, 270, 380, 620, 700, 800]\n",
    "\n",
    "vedio_path = \"data/ugv.mp4\"\n",
    "\n",
    "output_path = \"figure/frames\"\n",
    "\n",
    "for t in t_list:\n",
    "    extract_frame(vedio_path, t+50, os.path.join(output_path, f\"frame_{t}.png\"))"
   ]
  }
 ],
 "metadata": {
  "kernelspec": {
   "display_name": "gops",
   "language": "python",
   "name": "python3"
  },
  "language_info": {
   "codemirror_mode": {
    "name": "ipython",
    "version": 3
   },
   "file_extension": ".py",
   "mimetype": "text/x-python",
   "name": "python",
   "nbconvert_exporter": "python",
   "pygments_lexer": "ipython3",
   "version": "3.8.11"
  }
 },
 "nbformat": 4,
 "nbformat_minor": 2
}
